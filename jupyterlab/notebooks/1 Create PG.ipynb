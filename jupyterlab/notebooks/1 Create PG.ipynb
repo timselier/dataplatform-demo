{
 "cells": [
  {
   "cell_type": "code",
   "execution_count": 1,
   "id": "9d141a8f-502e-42d8-9868-6f5c171817b1",
   "metadata": {},
   "outputs": [],
   "source": [
    "import psycopg2\n",
    "import os"
   ]
  },
  {
   "cell_type": "code",
   "execution_count": 2,
   "id": "fa916576-04e8-4bf4-8927-4f67facc9e4a",
   "metadata": {},
   "outputs": [],
   "source": [
    "conn = psycopg2.connect(\n",
    "    host=os.getenv(\"POSTGRES_HOST_RW\"),\n",
    "    user=os.getenv(\"POSTGRES_USERNAME\"),\n",
    "    password=os.getenv(\"POSTGRES_PASSWORD\"),\n",
    "   database=\"app\"\n",
    ")\n",
    "cursor = conn.cursor()"
   ]
  },
  {
   "cell_type": "code",
   "execution_count": 3,
   "id": "7e257db6-1eda-42ff-819b-6a2477d76e9d",
   "metadata": {},
   "outputs": [
    {
     "name": "stdout",
     "output_type": "stream",
     "text": [
      "[(1, 'Oslo', 59.9133, 10.7389), (2, 'Bergen', 60.3894, 5.33), (3, 'Stavanger', 58.97, 5.7314), (4, 'Sandnes', 58.8517, 5.7361), (5, 'Trondheim', 63.4297, 10.3933), (6, 'Sandvika', 59.8833, 10.5167), (7, 'Kristiansand', 58.1472, 7.9972), (8, 'Drammen', 59.7378, 10.205), (9, 'Asker', 59.8331, 10.4392), (10, 'Tønsberg', 59.2981, 10.4236), (11, 'Skien', 59.2081, 9.5528), (12, 'Bodø', 67.2827, 14.3751), (13, 'Ålesund', 62.474, 6.1582), (14, 'Moss', 59.4592, 10.7008), (15, 'Arendal', 58.4608, 8.7664), (16, 'Lørenskog', 59.8989, 10.9642), (17, 'Tromsø', 69.6828, 18.9428), (18, 'Haugesund', 59.4464, 5.2983), (19, 'Molde', 62.7375, 7.1591), (20, 'Askøy', 60.4667, 5.15), (21, 'Hamar', 60.7945, 11.0679), (22, 'Oppegård', 59.7925, 10.7903), (23, 'Rygge', 59.3747, 10.7147), (24, 'Steinkjer', 64.0148, 11.4954), (25, 'Randaberg', 59.0017, 5.6153), (26, 'Lommedalen', 59.95, 10.4667), (27, 'Barbu', 58.4664, 8.7781), (28, 'Tiller', 63.355, 10.379), (29, 'Kolbotn', 59.8112, 10.8), (30, 'Lillestrøm', 59.95, 11.0833)]\n"
     ]
    }
   ],
   "source": [
    "cursor.execute(\"\"\"\n",
    "    CREATE TABLE IF NOT EXISTS weather_station (\n",
    "    \tid serial PRIMARY KEY,\n",
    "    \tstation_name VARCHAR ( 255 ) UNIQUE NOT NULL,\n",
    "        lat float(8) NOT NULL,\n",
    "        lon float(8) NOT NULL)\"\"\")\n",
    "\n",
    "cursor.executemany(\"\"\"INSERT INTO weather_station (station_name, lat, lon) VALUES (%s,%s,%s)\"\"\", \n",
    "                   [\n",
    "                    (\"Oslo\", 59.9133, 10.7389),\n",
    "                    (\"Bergen\", 60.3894, 5.3300),\n",
    "                    (\"Stavanger\", 58.9700, 5.7314),\n",
    "                    (\"Sandnes\", 58.8517, 5.7361),\n",
    "                    (\"Trondheim\", 63.4297, 10.3933),\n",
    "                    (\"Sandvika\", 59.8833, 10.5167),\n",
    "                    (\"Kristiansand\", 58.1472, 7.9972),\n",
    "                    (\"Drammen\", 59.7378, 10.2050),\n",
    "                    (\"Asker\", 59.8331, 10.4392),\n",
    "                    (\"Tønsberg\", 59.2981, 10.4236),\n",
    "                    (\"Skien\", 59.2081, 9.5528),\n",
    "                    (\"Bodø\", 67.2827, 14.3751),\n",
    "                    (\"Ålesund\", 62.4740, 6.1582),\n",
    "                    (\"Moss\", 59.4592, 10.7008),\n",
    "                    (\"Arendal\", 58.4608, 8.7664),\n",
    "                    (\"Lørenskog\", 59.8989, 10.9642),\n",
    "                    (\"Tromsø\", 69.6828, 18.9428),\n",
    "                    (\"Haugesund\", 59.4464, 5.2983),\n",
    "                    (\"Molde\", 62.7375, 7.1591),\n",
    "                    (\"Askøy\", 60.4667, 5.1500),\n",
    "                    (\"Hamar\", 60.7945, 11.0679),\n",
    "                    (\"Oppegård\", 59.7925, 10.7903),\n",
    "                    (\"Rygge\", 59.3747, 10.7147),\n",
    "                    (\"Steinkjer\", 64.0148, 11.4954),\n",
    "                    (\"Randaberg\", 59.0017, 5.6153),\n",
    "                    (\"Lommedalen\", 59.9500, 10.4667),\n",
    "                    (\"Barbu\", 58.4664, 8.7781),\n",
    "                    (\"Tiller\", 63.3550, 10.3790),\n",
    "                    (\"Kolbotn\", 59.8112, 10.8000),\n",
    "                    (\"Lillestrøm\", 59.9500, 11.0833)\n",
    "                   ])\n",
    "\n",
    "cursor.execute(\"select * from weather_station\")\n",
    "print( cursor.fetchall())\n",
    "\n",
    "conn.commit()"
   ]
  }
 ],
 "metadata": {
  "kernelspec": {
   "display_name": "Python 3 (ipykernel)",
   "language": "python",
   "name": "python3"
  },
  "language_info": {
   "codemirror_mode": {
    "name": "ipython",
    "version": 3
   },
   "file_extension": ".py",
   "mimetype": "text/x-python",
   "name": "python",
   "nbconvert_exporter": "python",
   "pygments_lexer": "ipython3",
   "version": "3.11.3"
  }
 },
 "nbformat": 4,
 "nbformat_minor": 5
}
