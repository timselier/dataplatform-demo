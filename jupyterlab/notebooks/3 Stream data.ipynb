{
 "cells": [
  {
   "cell_type": "code",
   "execution_count": 18,
   "id": "5173b088-47f3-4233-ba98-49b56ec07b24",
   "metadata": {},
   "outputs": [],
   "source": [
    "from clickhouse_driver import Client\n",
    "from datetime import date, datetime, timedelta\n",
    "import random\n",
    "import pandas\n",
    "from kafka import KafkaProducer\n",
    "import json\n",
    "import random\n",
    "import os\n",
    "\n",
    "def json_serial(obj):\n",
    "    \"\"\"JSON serializer for objects not serializable by default json code\"\"\"\n",
    "\n",
    "    if isinstance(obj, (datetime, date)):\n",
    "        return obj.isoformat()\n",
    "    raise TypeError (\"Type %s not serializable\" % type(obj))\n"
   ]
  },
  {
   "cell_type": "code",
   "execution_count": 19,
   "id": "9e5c4e50-ca64-4cc0-8dd4-3bac3c14cc28",
   "metadata": {},
   "outputs": [],
   "source": [
    "CLICKHOUSE_HOST=os.getenv(\"CLICKHOUSE_HOST\")\n",
    "CLICKHOUSE_USERNAME=os.getenv(\"CLICKHOUSE_USERNAME\")\n",
    "CLICKHOUSE_PASSWORD=os.getenv(\"CLICKHOUSE_PASSWORD\")\n",
    "client = Client(CLICKHOUSE_HOST, user=CLICKHOUSE_USERNAME, password=CLICKHOUSE_PASSWORD)\n",
    "\n",
    "KAFKA_BOOTSTRAP_HOST = os.getenv(\"KAFKA_BOOTSTRAP_HOST\")\n",
    "producer = KafkaProducer(bootstrap_servers=KAFKA_BOOTSTRAP_HOST)"
   ]
  },
  {
   "cell_type": "code",
   "execution_count": 20,
   "id": "423b2ac2-e97d-475a-9d87-458a03d0ca7f",
   "metadata": {},
   "outputs": [
    {
     "name": "stdout",
     "output_type": "stream",
     "text": [
      "CPU times: user 45.2 ms, sys: 16 ms, total: 61.1 ms\n",
      "Wall time: 42.5 ms\n"
     ]
    }
   ],
   "source": [
    "%%time\n",
    "\n",
    "for station_id in range(100):\n",
    "    for i in range(10):\n",
    "        msg = {\n",
    "            \"station_id\": station_id,\n",
    "            \"measurement_moment\": datetime.now() + timedelta(seconds=i),\n",
    "            \"temperature_ambient\": random.uniform(-10,30),\n",
    "            \"temperature_ground\": random.uniform(-10,30),\n",
    "            \"humidity\": random.uniform(0,1),\n",
    "            \"pressure\": random.uniform(980,1030),\n",
    "            \"wind_speed\": random.uniform(0,30),\n",
    "            \"precipitation\": random.uniform(0,20),\n",
    "            \"irradiance\": random.uniform(0,1000) \n",
    "        }\n",
    "        \n",
    "        producer.send('weather-station-observation', json.dumps(msg, default=json_serial).encode(), key=str(station_id+1).encode())"
   ]
  },
  {
   "cell_type": "markdown",
   "id": "e22209db-030b-4b4b-8c73-0e3cd0b6f243",
   "metadata": {},
   "source": [
    "Note: It can take up to 7500 ms for data to show up in tables"
   ]
  },
  {
   "cell_type": "code",
   "execution_count": 25,
   "id": "6fd67939-e514-461f-bcf4-168d51f905b5",
   "metadata": {},
   "outputs": [
    {
     "data": {
      "text/html": [
       "<div>\n",
       "<style scoped>\n",
       "    .dataframe tbody tr th:only-of-type {\n",
       "        vertical-align: middle;\n",
       "    }\n",
       "\n",
       "    .dataframe tbody tr th {\n",
       "        vertical-align: top;\n",
       "    }\n",
       "\n",
       "    .dataframe thead th {\n",
       "        text-align: right;\n",
       "    }\n",
       "</style>\n",
       "<table border=\"1\" class=\"dataframe\">\n",
       "  <thead>\n",
       "    <tr style=\"text-align: right;\">\n",
       "      <th></th>\n",
       "      <th>station_id</th>\n",
       "      <th>measurement_moment</th>\n",
       "      <th>temperature_ambient</th>\n",
       "      <th>temperature_ground</th>\n",
       "      <th>humidity</th>\n",
       "      <th>pressure</th>\n",
       "      <th>wind_speed</th>\n",
       "      <th>precipitation</th>\n",
       "      <th>irradiance</th>\n",
       "    </tr>\n",
       "  </thead>\n",
       "  <tbody>\n",
       "  </tbody>\n",
       "</table>\n",
       "</div>"
      ],
      "text/plain": [
       "Empty DataFrame\n",
       "Columns: [station_id, measurement_moment, temperature_ambient, temperature_ground, humidity, pressure, wind_speed, precipitation, irradiance]\n",
       "Index: []"
      ]
     },
     "execution_count": 25,
     "metadata": {},
     "output_type": "execute_result"
    }
   ],
   "source": [
    "data, cols = client.execute(\"select * from weatherStationObservation\", with_column_types=True)\n",
    "pandas.DataFrame(data, columns=[col_name for col_name, _ in cols])"
   ]
  },
  {
   "cell_type": "code",
   "execution_count": null,
   "id": "8aa80d81-bb59-4850-823c-83d57c5c45f1",
   "metadata": {},
   "outputs": [],
   "source": []
  }
 ],
 "metadata": {
  "kernelspec": {
   "display_name": "Python 3 (ipykernel)",
   "language": "python",
   "name": "python3"
  },
  "language_info": {
   "codemirror_mode": {
    "name": "ipython",
    "version": 3
   },
   "file_extension": ".py",
   "mimetype": "text/x-python",
   "name": "python",
   "nbconvert_exporter": "python",
   "pygments_lexer": "ipython3",
   "version": "3.11.3"
  }
 },
 "nbformat": 4,
 "nbformat_minor": 5
}
